{
 "cells": [
  {
   "cell_type": "markdown",
   "metadata": {
    "colab_type": "text",
    "id": "view-in-github"
   },
   "source": [
    "<a href=\"https://colab.research.google.com/github/boost13d6/anything/blob/main/colab/t1q3.ipynb\" target=\"_parent\"><img src=\"https://colab.research.google.com/assets/colab-badge.svg\" alt=\"Open In Colab\"/></a>"
   ]
  },
  {
   "cell_type": "markdown",
   "metadata": {
    "id": "GdvfpPpd90A2",
    "tags": []
   },
   "source": [
    "# 아나콘다 설치 파이썬 버전 확인"
   ]
  },
  {
   "cell_type": "code",
   "execution_count": 1,
   "metadata": {
    "tags": []
   },
   "outputs": [
    {
     "data": {
      "text/plain": [
       "sys.version_info(major=3, minor=11, micro=4, releaselevel='final', serial=0)"
      ]
     },
     "execution_count": 1,
     "metadata": {},
     "output_type": "execute_result"
    }
   ],
   "source": [
    "import sys\n",
    "sys.version_info"
   ]
  },
  {
   "cell_type": "markdown",
   "metadata": {
    "tags": []
   },
   "source": [
    "# Zen of Python을 출력 - 1주차 퀴즈 1번"
   ]
  },
  {
   "cell_type": "code",
   "execution_count": 5,
   "metadata": {
    "tags": []
   },
   "outputs": [],
   "source": [
    "import this"
   ]
  },
  {
   "cell_type": "markdown",
   "metadata": {
    "tags": []
   },
   "source": [
    "# 파파고 번역\n",
    "```\n",
    "팀 피터스 지음, 파이썬의 선\n",
    "\n",
    "아름다운 것이 추한 것보다 낫다.\n",
    "명시적인 것이 암묵적인 것보다 낫다.\n",
    "간단한 것이 복잡한 것보다 낫다.\n",
    "복잡한 것이 복잡한 것보다 낫다.\n",
    "평평한 것이 중첩된 것보다 낫다.\n",
    "조밀한 것보다는 희소한 것이 낫다.\n",
    "가독성이 중요하다.\n",
    "특수한 경우는 규칙을 어길 만큼 특별하지 않아요.\n",
    "비록 실용성이 순수성을 능가하지만.\n",
    "실수는 절대로 조용히 지나가서는 안 된다.\n",
    "명시적으로 침묵하지 않는 한.\n",
    "애매모호한 상황에서 추측하고 싶은 유혹을 거절하라.\n",
    "그것을 할 수 있는 분명한 방법이 하나 있어야 하고, 가능하다면 하나만 있어야 한다.\n",
    "비록 네가 네덜란드인이 아니라면 처음에는 그 방법이 분명하지 않을 수도 있다.\n",
    "지금이 안 하는 것보다 낫다.\n",
    "비록 결코 지금 *지금*보다 나은 적은 없지만 말이다.\n",
    "시행이 설명하기 어렵다면 나쁜 생각이다.\n",
    "시행이 설명하기 쉽다면 좋은 생각일 수도 있다.\n",
    "이름공간은 아주 훌륭한 아이디어입니다. 그것들을 더 많이 해봅시다!\n",
    "```"
   ]
  },
  {
   "cell_type": "code",
   "execution_count": 6,
   "metadata": {
    "tags": []
   },
   "outputs": [
    {
     "data": {
      "text/plain": [
       "False"
      ]
     },
     "execution_count": 6,
     "metadata": {},
     "output_type": "execute_result"
    }
   ],
   "source": [
    "True == \"1\""
   ]
  },
  {
   "cell_type": "code",
   "execution_count": 13,
   "metadata": {
    "tags": []
   },
   "outputs": [],
   "source": [
    "lang = [\"python\"]"
   ]
  },
  {
   "cell_type": "code",
   "execution_count": 14,
   "metadata": {
    "tags": []
   },
   "outputs": [],
   "source": [
    "lang.append(\"java\")\n",
    "lang.append(\"c\")"
   ]
  },
  {
   "cell_type": "code",
   "execution_count": 15,
   "metadata": {
    "tags": []
   },
   "outputs": [
    {
     "data": {
      "text/plain": [
       "['python', 'java', 'c']"
      ]
     },
     "execution_count": 15,
     "metadata": {},
     "output_type": "execute_result"
    }
   ],
   "source": [
    "lang"
   ]
  },
  {
   "cell_type": "code",
   "execution_count": 17,
   "metadata": {
    "tags": []
   },
   "outputs": [
    {
     "name": "stdout",
     "output_type": "stream",
     "text": [
      "0 python\n",
      "1 java\n",
      "2 c\n"
     ]
    }
   ],
   "source": [
    "for i, val in enumerate(lang):\n",
    "    print(i, val)"
   ]
  },
  {
   "cell_type": "code",
   "execution_count": 19,
   "metadata": {
    "tags": []
   },
   "outputs": [
    {
     "name": "stdout",
     "output_type": "stream",
     "text": [
      "1 java\n",
      "2 python\n",
      "3 java\n",
      "4 python\n",
      "5 java\n",
      "6 python\n",
      "7 java\n",
      "8 python\n",
      "9 java\n"
     ]
    }
   ],
   "source": [
    "for i in range(1, 10):\n",
    "    if i % 2== 0:\n",
    "        print(i, \"python\")\n",
    "    else:\n",
    "        print(i, \"java\")"
   ]
  },
  {
   "cell_type": "code",
   "execution_count": 20,
   "metadata": {
    "tags": []
   },
   "outputs": [],
   "source": [
    "address = ['경기도', '성남시', '분당구', '불정로', '6', 'NAVER', '그린팩토리']"
   ]
  },
  {
   "cell_type": "code",
   "execution_count": 22,
   "metadata": {
    "tags": []
   },
   "outputs": [
    {
     "data": {
      "text/plain": [
       "False"
      ]
     },
     "execution_count": 22,
     "metadata": {},
     "output_type": "execute_result"
    }
   ],
   "source": [
    "\"경기\" in address"
   ]
  },
  {
   "cell_type": "code",
   "execution_count": 23,
   "metadata": {
    "tags": []
   },
   "outputs": [
    {
     "data": {
      "text/plain": [
       "True"
      ]
     },
     "execution_count": 23,
     "metadata": {},
     "output_type": "execute_result"
    }
   ],
   "source": [
    "\"경기도\" in address"
   ]
  },
  {
   "cell_type": "code",
   "execution_count": null,
   "metadata": {},
   "outputs": [],
   "source": []
  }
 ],
 "metadata": {
  "colab": {
   "authorship_tag": "ABX9TyOsGz2h7W/7yY93cKSfeCn0",
   "include_colab_link": true,
   "provenance": []
  },
  "kernelspec": {
   "display_name": "Python 3 (ipykernel)",
   "language": "python",
   "name": "python3"
  },
  "language_info": {
   "codemirror_mode": {
    "name": "ipython",
    "version": 3
   },
   "file_extension": ".py",
   "mimetype": "text/x-python",
   "name": "python",
   "nbconvert_exporter": "python",
   "pygments_lexer": "ipython3",
   "version": "3.11.4"
  }
 },
 "nbformat": 4,
 "nbformat_minor": 4
}
